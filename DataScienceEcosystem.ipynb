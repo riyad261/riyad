{
 "cells": [
  {
   "cell_type": "markdown",
   "id": "dfde9a9b",
   "metadata": {},
   "source": [
    "## Data Science Tools and Ecosystem"
   ]
  },
  {
   "cell_type": "markdown",
   "id": "faf3b405",
   "metadata": {},
   "source": [
    "### In this notebook, Data Science Tools and Ecosystem are summarized.\n"
   ]
  },
  {
   "cell_type": "markdown",
   "id": "177ef318",
   "metadata": {},
   "source": [
    "### Some of the popular languages that Data Scientists use are:\n",
    "\n"
   ]
  },
  {
   "cell_type": "markdown",
   "id": "f8f2521f",
   "metadata": {},
   "source": [
    "1- R\n",
    "\n",
    "2- SQL \n",
    "\n",
    "3- Python"
   ]
  },
  {
   "cell_type": "markdown",
   "id": "7804ebcf",
   "metadata": {},
   "source": [
    "Some of the commonly used libraries used by Data Scientists include:\n"
   ]
  },
  {
   "cell_type": "markdown",
   "id": "9e85bcbe",
   "metadata": {},
   "source": [
    "1-Pandas \n",
    "\n",
    "2-numpy\n",
    "\n",
    "3-Tensrflow\n"
   ]
  },
  {
   "cell_type": "markdown",
   "id": "b392b0cb",
   "metadata": {},
   "source": [
    " Data Science Tools"
   ]
  },
  {
   "cell_type": "markdown",
   "id": "bbb426d9",
   "metadata": {},
   "source": [
    "| Data Science Tools         |\n",
    "|----------------------------|\n",
    "| Jupyter Notebooks           |\n",
    "| RStudio                     |\n",
    "| SQL                         |"
   ]
  },
  {
   "cell_type": "markdown",
   "id": "b4ea2364",
   "metadata": {},
   "source": [
    "Below are a few examples of evaluating arithmetic expressions in Python.\n"
   ]
  },
  {
   "cell_type": "code",
   "execution_count": 15,
   "id": "915599bb",
   "metadata": {},
   "outputs": [
    {
     "data": {
      "text/plain": [
       "17"
      ]
     },
     "execution_count": 15,
     "metadata": {},
     "output_type": "execute_result"
    }
   ],
   "source": [
    "#This a simple arithmetic expression to mutiply then add integers\n",
    "(3*4)+5"
   ]
  },
  {
   "cell_type": "code",
   "execution_count": 19,
   "id": "05147723",
   "metadata": {},
   "outputs": [
    {
     "name": "stdout",
     "output_type": "stream",
     "text": [
      "3.3333333333333335\n"
     ]
    }
   ],
   "source": [
    "#This will convert 200 minutes to hours by diving by 60\n",
    "x= 200\n",
    "y = 60\n",
    "hours = x/y\n",
    "print(hours)"
   ]
  },
  {
   "cell_type": "markdown",
   "id": "378ad6cc",
   "metadata": {},
   "source": [
    "**Objectives:**\n",
    "\n",
    "- Some of the popular languages that Data Scientists\n",
    "- Some of the commonly used libraries used by Data Scientists\n",
    "-  examples of evaluating arithmetic expressions\n",
    "\n"
   ]
  },
  {
   "cell_type": "markdown",
   "id": "9e64b282",
   "metadata": {},
   "source": [
    "## Author\n",
    "Riyadh"
   ]
  },
  {
   "cell_type": "code",
   "execution_count": null,
   "id": "e9c55431",
   "metadata": {},
   "outputs": [],
   "source": []
  }
 ],
 "metadata": {
  "kernelspec": {
   "display_name": "Python 3 (ipykernel)",
   "language": "python",
   "name": "python3"
  },
  "language_info": {
   "codemirror_mode": {
    "name": "ipython",
    "version": 3
   },
   "file_extension": ".py",
   "mimetype": "text/x-python",
   "name": "python",
   "nbconvert_exporter": "python",
   "pygments_lexer": "ipython3",
   "version": "3.11.4"
  }
 },
 "nbformat": 4,
 "nbformat_minor": 5
}
